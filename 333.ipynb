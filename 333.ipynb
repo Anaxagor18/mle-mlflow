{
 "cells": [
  {
   "cell_type": "code",
   "execution_count": null,
   "metadata": {},
   "outputs": [],
   "source": []
  },
  {
   "cell_type": "code",
   "execution_count": null,
   "metadata": {},
   "outputs": [],
   "source": []
  },
  {
   "cell_type": "code",
   "execution_count": 1,
   "metadata": {},
   "outputs": [
    {
     "name": "stderr",
     "output_type": "stream",
     "text": [
      "/home/mle-user/mle_projects/mle-mlflow/.venv_flow/lib/python3.10/site-packages/sklearn/base.py:348: InconsistentVersionWarning: Trying to unpickle estimator OneHotEncoder from version 1.4.0 when using version 1.3.1. This might lead to breaking code or invalid results. Use at your own risk. For more info please refer to:\n",
      "https://scikit-learn.org/stable/model_persistence.html#security-maintainability-limitations\n",
      "  warnings.warn(\n",
      "/home/mle-user/mle_projects/mle-mlflow/.venv_flow/lib/python3.10/site-packages/sklearn/base.py:348: InconsistentVersionWarning: Trying to unpickle estimator StandardScaler from version 1.4.0 when using version 1.3.1. This might lead to breaking code or invalid results. Use at your own risk. For more info please refer to:\n",
      "https://scikit-learn.org/stable/model_persistence.html#security-maintainability-limitations\n",
      "  warnings.warn(\n",
      "/home/mle-user/mle_projects/mle-mlflow/.venv_flow/lib/python3.10/site-packages/sklearn/base.py:348: InconsistentVersionWarning: Trying to unpickle estimator ColumnTransformer from version 1.4.0 when using version 1.3.1. This might lead to breaking code or invalid results. Use at your own risk. For more info please refer to:\n",
      "https://scikit-learn.org/stable/model_persistence.html#security-maintainability-limitations\n",
      "  warnings.warn(\n",
      "/home/mle-user/mle_projects/mle-mlflow/.venv_flow/lib/python3.10/site-packages/sklearn/base.py:348: InconsistentVersionWarning: Trying to unpickle estimator LogisticRegression from version 1.4.0 when using version 1.3.1. This might lead to breaking code or invalid results. Use at your own risk. For more info please refer to:\n",
      "https://scikit-learn.org/stable/model_persistence.html#security-maintainability-limitations\n",
      "  warnings.warn(\n",
      "/home/mle-user/mle_projects/mle-mlflow/.venv_flow/lib/python3.10/site-packages/sklearn/base.py:348: InconsistentVersionWarning: Trying to unpickle estimator Pipeline from version 1.4.0 when using version 1.3.1. This might lead to breaking code or invalid results. Use at your own risk. For more info please refer to:\n",
      "https://scikit-learn.org/stable/model_persistence.html#security-maintainability-limitations\n",
      "  warnings.warn(\n",
      "/home/mle-user/mle_projects/mle-mlflow/.venv_flow/lib/python3.10/site-packages/mlflow/models/signature.py:212: UserWarning: Hint: Inferred schema contains integer column(s). Integer columns in Python cannot represent missing values. If your input data contains missing values at inference time, it will be encoded as floats and will cause a schema enforcement error. The best way to avoid this problem is to infer the model schema based on a realistic data sample (training dataset) that includes missing values. Alternatively, you can declare integer columns as doubles (float64) whenever these columns may have missing values. See `Handling Integers With Missing Values <https://www.mlflow.org/docs/latest/models.html#handling-integers-with-missing-values>`_ for more details.\n",
      "  inputs = _infer_schema(model_input) if model_input is not None else None\n",
      "/home/mle-user/mle_projects/mle-mlflow/.venv_flow/lib/python3.10/site-packages/mlflow/models/signature.py:213: UserWarning: Hint: Inferred schema contains integer column(s). Integer columns in Python cannot represent missing values. If your input data contains missing values at inference time, it will be encoded as floats and will cause a schema enforcement error. The best way to avoid this problem is to infer the model schema based on a realistic data sample (training dataset) that includes missing values. Alternatively, you can declare integer columns as doubles (float64) whenever these columns may have missing values. See `Handling Integers With Missing Values <https://www.mlflow.org/docs/latest/models.html#handling-integers-with-missing-values>`_ for more details.\n",
      "  outputs = _infer_schema(model_output) if model_output is not None else None\n",
      "Registered model 'churn_model_nikolaibogomolov' already exists. Creating a new version of this model...\n",
      "2024/08/02 13:12:33 INFO mlflow.tracking._model_registry.client: Waiting up to 60 seconds for model version to finish creation. Model name: churn_model_nikolaibogomolov, version 6\n",
      "Created version '6' of model 'churn_model_nikolaibogomolov'.\n"
     ]
    }
   ],
   "source": [
    "import os\n",
    "\n",
    "import mlflow\n",
    "import pandas as pd\n",
    "import joblib\n",
    "\n",
    "\n",
    "EXPERIMENT_NAME = 'bogomolov'\n",
    "RUN_NAME = \"model_0_registry\"\n",
    "REGISTRY_MODEL_NAME = \"churn_model_nikolaibogomolov\"\n",
    "\n",
    "\n",
    "os.environ[\"MLFLOW_S3_ENDPOINT_URL\"] = 'https://storage.yandexcloud.net'\n",
    "os.environ[\"AWS_ACCESS_KEY_ID\"] = 'YCAJEryDs7iScbshPQ7BaUhes'\n",
    "os.environ[\"AWS_SECRET_ACCESS_KEY\"] = 'YCMl4tpgidAdLCoZRZ1lURSmOpgRQ12KhwO_tJkr'\n",
    "\n",
    "data = pd.read_csv('initial_data.csv')\n",
    "data.drop(columns = ['building_id', 'studio', 'building_type_int', 'latitude', 'longitude'], inplace = True)\n",
    "data_test = data[-100:]\n",
    "X_test = data_test.drop(columns = ['price'])\n",
    "y_test = data_test['price']\n",
    "\n",
    "with open('fitted_model.pkl', 'rb') as fd:\n",
    "    model = joblib.load(fd) \n",
    "\n",
    "prediction = y_test\n",
    "probas = y_test\n",
    "\n",
    "pip_requirements = 'requirements.txt'\n",
    "signature = mlflow.models.infer_signature(X_test, prediction)\n",
    "input_example = X_test[:10]\n",
    "metadata = {'model_type': 'monthly'}\n",
    "\n",
    "\n",
    "experiment_id = mlflow.get_experiment_by_name(EXPERIMENT_NAME).experiment_id\n",
    "if not experiment_id:\n",
    "    experiment_id = mlflow.create_experiment(EXPERIMENT_NAME).experiment_id\n",
    "\n",
    "with mlflow.start_run(run_name=RUN_NAME, experiment_id=experiment_id) as run:\n",
    "    run_id = run.info.run_id\n",
    "\n",
    "    model_info = mlflow.sklearn.log_model( \n",
    "        sk_model=model,\n",
    "        artifact_path=\"models\",\n",
    "        registered_model_name=REGISTRY_MODEL_NAME,\n",
    "        signature = signature,\n",
    "        pip_requirements=pip_requirements,\n",
    "        input_example = input_example,\n",
    "        metadata = metadata,\n",
    "        await_registration_for=60       \n",
    "    )\n",
    "    \n",
    "    "
   ]
  },
  {
   "cell_type": "code",
   "execution_count": 23,
   "metadata": {},
   "outputs": [],
   "source": [
    "from sklearn.metrics import accuracy_score, confusion_matrix, roc_auc_score, precision_score, recall_score, f1_score, log_loss\n",
    "# импортируйте необходимые вам модули\n",
    "\n",
    "# заведите словарь со всеми метриками\n",
    "metrics = {}\n",
    "\n",
    "# посчитайте метрики из модуля sklearn.metrics\n",
    "# err_1 — ошибка первого рода\n",
    "# err_2 — ошибка второго рода\n",
    "cm_matrix = confusion_matrix(y_test, prediction, normalize='all').ravel()\n",
    "err1 = cm_matrix[1]\n",
    "err2 = cm_matrix[3]\n",
    "#auc = roc_auc_score(y_test, probas)\n",
    "#precision = precision_score(y_test, prediction)\n",
    "#recall = recall_score(y_test, prediction)\n",
    "#f1 = f1_score(y_test, prediction)\n",
    "#logloss = log_loss(y_test, prediction) \n",
    "\n",
    "# запишите значения метрик в словарь\n",
    "metrics[\"err1\"] = err1\n",
    "metrics[\"err2\"] = err2\n",
    "#metrics[\"auc\"] = auc\n",
    "#metrics[\"precision\"] = precision\n",
    "#metrics[\"recall\"] = recall\n",
    "#metrics[\"f1\"] = f1\n",
    "#metrics[\"logloss\"] = logloss"
   ]
  },
  {
   "cell_type": "code",
   "execution_count": 25,
   "metadata": {},
   "outputs": [],
   "source": [
    "loaded_model =  mlflow.sklearn.load_model(model_uri=model_info.model_uri) \n"
   ]
  },
  {
   "cell_type": "code",
   "execution_count": null,
   "metadata": {},
   "outputs": [],
   "source": []
  }
 ],
 "metadata": {
  "kernelspec": {
   "display_name": ".venv_flow",
   "language": "python",
   "name": "python3"
  },
  "language_info": {
   "codemirror_mode": {
    "name": "ipython",
    "version": 3
   },
   "file_extension": ".py",
   "mimetype": "text/x-python",
   "name": "python",
   "nbconvert_exporter": "python",
   "pygments_lexer": "ipython3",
   "version": "3.10.12"
  }
 },
 "nbformat": 4,
 "nbformat_minor": 2
}
